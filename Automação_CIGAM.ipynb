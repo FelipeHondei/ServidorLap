{
  "nbformat": 4,
  "nbformat_minor": 0,
  "metadata": {
    "colab": {
      "provenance": [],
      "mount_file_id": "1d6th8HsDYcy1cuM7KMcWOD3ck2pkuUEV",
      "authorship_tag": "ABX9TyMdxhNn7M+A/G80lqF/l7In",
      "include_colab_link": true
    },
    "kernelspec": {
      "name": "python3",
      "display_name": "Python 3"
    },
    "language_info": {
      "name": "python"
    }
  },
  "cells": [
    {
      "cell_type": "markdown",
      "metadata": {
        "id": "view-in-github",
        "colab_type": "text"
      },
      "source": [
        "<a href=\"https://colab.research.google.com/github/FelipeHondei/ServidorLap/blob/main/Automa%C3%A7%C3%A3o_CIGAM.ipynb\" target=\"_parent\"><img src=\"https://colab.research.google.com/assets/colab-badge.svg\" alt=\"Open In Colab\"/></a>"
      ]
    },
    {
      "cell_type": "markdown",
      "source": [
        "# **Formatar o arquivo**"
      ],
      "metadata": {
        "id": "8ERYuW4IsywT"
      }
    },
    {
      "cell_type": "code",
      "execution_count": null,
      "metadata": {
        "id": "LBRWPdcguVA0"
      },
      "outputs": [],
      "source": [
        "import pandas as pd\n",
        "from datetime import datetime\n",
        "from openpyxl import load_workbook\n",
        "from openpyxl.styles import PatternFill\n",
        "import re\n",
        "import codecs\n",
        "\n",
        "# Limpar uma linha do arquivo\n",
        "def clean_line(line):\n",
        "    pattern = re.compile(r'[^\\x00-\\x7F]')  # Encontrar caracteres inválidos\n",
        "    return pattern.sub(' ', line)  # Substitui caracteres inválidos por espaço em branco\n",
        "\n",
        "# Definindo o caminho do arquivo\n",
        "file_path = \"/content/drive/MyDrive/VENDVEIM02.csv\"  #caminho do arquivo\n",
        "\n",
        "# Abre o arquivo original para leitura e um novo arquivo para escrita\n",
        "with codecs.open(file_path, 'r', encoding='utf-8', errors='ignore') as infile, \\\n",
        "     open('cleaned_file.csv', 'w', encoding='utf-8') as outfile:\n",
        "\n",
        "    for line in infile:\n",
        "        cleaned_line = clean_line(line)\n",
        "        outfile.write(cleaned_line)\n",
        "\n",
        "# Tenta ler o arquivo limpo com Pandas\n",
        "df = pd.read_csv('cleaned_file.csv', dtype=str, encoding='utf-8', sep=';', index_col=False)  # Certifique-se do delimitador\n",
        "\n",
        "# Substituir valores na coluna \"Branch\"\n",
        "branch_map = {\"01\": \"9117\", \"02\": \"9118\", \"03\": \"9119\", \"04\": \"9120\",\n",
        "              \"05\": \"9121\", \"06\": \"9122\", \"07\": \"9421\", \"08\": \"9431\"}\n",
        "df[\"Branch\"] = df[\"Branch\"].map(branch_map)\n",
        "\n",
        "coluna_ad = \"Invoice date\"\n",
        "coluna_af = \"Chassis\"\n",
        "coluna_a = \"Branch\"\n",
        "\n",
        "df[coluna_af] = pd.to_numeric(df[coluna_af], errors='coerce')\n",
        "df.sort_values(by=coluna_af, ascending=True, inplace=True)  # Ordenar de menor para maior\n",
        "\n",
        "colunas = [coluna_a, coluna_ad, coluna_af] + [col for col in df.columns if col not in [coluna_a, coluna_ad, coluna_af]]\n",
        "df = df[colunas]\n",
        "\n",
        "indice_coluna_remover = df.columns.get_loc('Dealer Number')  # Obtém o índice da coluna pelo nome\n",
        "df = df.drop(df.columns[indice_coluna_remover], axis=1)\n",
        "\n",
        "# Nome do arquivo de saída\n",
        "data_hoje = datetime.today().strftime('%d-%m-%Y')\n",
        "output_file = f\"Faturamento ({data_hoje}).xlsx\"\n",
        "\n",
        "# Salvar em Excel\n",
        "df.to_excel(output_file, index=False)\n",
        "\n",
        "# Aplicar formatação verde ao cabeçalho\n",
        "wb = load_workbook(output_file)\n",
        "ws = wb.active\n",
        "fill = PatternFill(start_color=\"00FF00\", end_color=\"00FF00\", fill_type=\"solid\")\n",
        "for cell in ws[1]:\n",
        "    cell.fill = fill\n",
        "wb.save(output_file)\n",
        "\n",
        "print(f\"Arquivo salvo como {output_file}\")\n"
      ]
    },
    {
      "cell_type": "markdown",
      "source": [
        "# Envia por email"
      ],
      "metadata": {
        "id": "KikoUL_dAHwz"
      }
    },
    {
      "cell_type": "code",
      "source": [
        "import smtplib\n",
        "from email.mime.multipart import MIMEMultipart\n",
        "from email.mime.base import MIMEBase\n",
        "from email import encoders\n",
        "from datetime import datetime\n",
        "from email.mime.text import MIMEText\n",
        "import os\n",
        "\n",
        "# enviar e-mail com anexo\n",
        "def send_email_with_attachment(subject, body, to_emails, attachment_path):\n",
        "    # Configurações do e-mail\n",
        "    from_email = \"Email@usuario.com.br\"  # Login email\n",
        "    from_password = \"Senha\"  # Senha do email\n",
        "\n",
        "\n",
        "    # Criando o e-mail\n",
        "    msg = MIMEMultipart()\n",
        "    msg['From'] = from_email\n",
        "    msg['Subject'] = subject\n",
        "    msg['To'] = \", \".join(to_emails)  # Quem vai receber o email\n",
        "\n",
        "    body = \"Prezado(a),\\n\\nSegue em anexo o relatório de faturamento do dia.\"\n",
        "\n",
        "    # Criando a parte do corpo do email\n",
        "    body_part = MIMEText(body, 'plain')\n",
        "\n",
        "    # Corpo do e-mail\n",
        "    msg.attach(body_part)\n",
        "\n",
        "    # Anexando o arquivo\n",
        "    with open(attachment_path, 'rb') as file:\n",
        "        part = MIMEBase('application', 'octet-stream')\n",
        "        part.set_payload(file.read())\n",
        "        encoders.encode_base64(part)\n",
        "        part.add_header('Content-Disposition', f\"attachment; filename={os.path.basename(attachment_path)}\")\n",
        "        msg.attach(part)\n",
        "\n",
        "    # Enviando o e-mail\n",
        "    try:\n",
        "        server = smtplib.SMTP('smtp.gmail.com', 587)\n",
        "        server.starttls()\n",
        "        server.login(from_email, from_password)\n",
        "        server.sendmail(from_email, to_emails, msg.as_string())\n",
        "        server.quit()\n",
        "        print(\"E-mail enviado com sucesso!\")\n",
        "    except Exception as e:\n",
        "        print(f\"Erro ao enviar o e-mail: {e}\")\n",
        "\n",
        "# Nome do arquivo de saída (gerado previamente)\n",
        "data_hoje = datetime.today().strftime('%d-%m-%Y')\n",
        "output_file = f\"Faturamento ({data_hoje}).xlsx\"\n",
        "\n",
        "# Detalhes do e-mail\n",
        "subject = \"Relatório de Faturamento\"\n",
        "\n",
        "\n",
        "# Lista de destinatários (adicione os e-mails que você deseja enviar)\n",
        "to_emails = [\"felipe.hondei@laponia.com.br\"] #Coloquei meu email para teste\n",
        "\n",
        "# Enviar e-mail com anexo\n",
        "send_email_with_attachment(subject, body, to_emails, output_file)"
      ],
      "metadata": {
        "id": "3cJTYAeLAKVO"
      },
      "execution_count": null,
      "outputs": []
    },
    {
      "cell_type": "markdown",
      "source": [
        "# **Baixar o arquivo**\n",
        "(Não testei pois não consegui a conexão por email)"
      ],
      "metadata": {
        "id": "dphd6Y2ggu5-"
      }
    },
    {
      "cell_type": "code",
      "source": [
        "import imaplib\n",
        "import email\n",
        "import os\n",
        "\n",
        "EMAIL = \"email@laponia.com\"\n",
        "SENHA = \"senha\"  # Acho que vai precisar da senha \"aplicativo\"\n",
        "IMAP_SERVER = \"outlook.office365.com\"\n",
        "PASTA_DESTINO = \"downloads\"\n",
        "REMETENTES_PERMITIDOS = [\"email1@laponia.com\", \"email2@laponia.com\"]\n",
        "\n",
        "# Criar pasta para salvar os arquivos\n",
        "if not os.path.exists(PASTA_DESTINO):\n",
        "    os.makedirs(PASTA_DESTINO)\n",
        "\n",
        "try:\n",
        "    # Servidor IMAP\n",
        "    mail = imaplib.IMAP4_SSL(IMAP_SERVER)\n",
        "    mail.login(EMAIL, SENHA)\n",
        "    mail.select(\"inbox\")\n",
        "\n",
        "    # Buscar e-mails de remetentes específicos com anexos\n",
        "    status, mensagens = mail.search(None, \"ALL\")\n",
        "    for num in mensagens[0].split():\n",
        "        status, dados = mail.fetch(num, \"(RFC822)\")\n",
        "        raw_email = dados[0][1]\n",
        "\n",
        "        # Ler e analisar o e-mail para achar o email certo para download do arquivo\n",
        "        msg = email.message_from_bytes(raw_email)\n",
        "        remetente = msg[\"From\"]\n",
        "\n",
        "        if any(remetente.lower().find(r.lower()) != -1 for r in REMETENTES_PERMITIDOS):\n",
        "            for part in msg.walk():\n",
        "                if part.get_content_disposition() == \"attachment\":\n",
        "                    filename = part.get_filename()\n",
        "                    if filename and filename.endswith(\".csv\"):\n",
        "                        filepath = os.path.join(PASTA_DESTINO, filename)\n",
        "                        with open(filepath, \"wb\") as f:\n",
        "                            f.write(part.get_payload(decode=True))\n",
        "                        print(f\"Arquivo baixado: {filename}\")\n",
        "\n",
        "    # Fechar conexão\n",
        "    mail.logout()\n",
        "\n",
        "except Exception as e:\n",
        "    print(f\"Erro: {e}\")\n"
      ],
      "metadata": {
        "id": "oHxDbfGwg0Ak"
      },
      "execution_count": null,
      "outputs": []
    }
  ]
}